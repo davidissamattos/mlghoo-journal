{
 "cells": [
  {
   "cell_type": "markdown",
   "metadata": {
    "toc": true
   },
   "source": [
    "<h1>Table of Contents<span class=\"tocSkip\"></span></h1>\n",
    "<div class=\"toc\"><ul class=\"toc-item\"><li><span><a href=\"#Importing\" data-toc-modified-id=\"Importing-1\"><span class=\"toc-item-num\">1&nbsp;&nbsp;</span>Importing</a></span></li><li><span><a href=\"#Defining-the-functions\" data-toc-modified-id=\"Defining-the-functions-2\"><span class=\"toc-item-num\">2&nbsp;&nbsp;</span>Defining the functions</a></span></li><li><span><a href=\"#Six-Hump-Back-Camel-optimization\" data-toc-modified-id=\"Six-Hump-Back-Camel-optimization-3\"><span class=\"toc-item-num\">3&nbsp;&nbsp;</span>Six Hump Back Camel optimization</a></span><ul class=\"toc-item\"><li><span><a href=\"#mLG-HOO-loop\" data-toc-modified-id=\"mLG-HOO-loop-3.1\"><span class=\"toc-item-num\">3.1&nbsp;&nbsp;</span>mLG-HOO loop</a></span></li><li><span><a href=\"#Tree-Parzen-loop\" data-toc-modified-id=\"Tree-Parzen-loop-3.2\"><span class=\"toc-item-num\">3.2&nbsp;&nbsp;</span>Tree Parzen loop</a></span></li><li><span><a href=\"#Nelder-Mead\" data-toc-modified-id=\"Nelder-Mead-3.3\"><span class=\"toc-item-num\">3.3&nbsp;&nbsp;</span>Nelder-Mead</a></span></li><li><span><a href=\"#Random\" data-toc-modified-id=\"Random-3.4\"><span class=\"toc-item-num\">3.4&nbsp;&nbsp;</span>Random</a></span></li><li><span><a href=\"#Assembling-data-for-analysis\" data-toc-modified-id=\"Assembling-data-for-analysis-3.5\"><span class=\"toc-item-num\">3.5&nbsp;&nbsp;</span>Assembling data for analysis</a></span></li></ul></li><li><span><a href=\"#Easom-optimization\" data-toc-modified-id=\"Easom-optimization-4\"><span class=\"toc-item-num\">4&nbsp;&nbsp;</span>Easom optimization</a></span><ul class=\"toc-item\"><li><span><a href=\"#mLG-HOO-loop\" data-toc-modified-id=\"mLG-HOO-loop-4.1\"><span class=\"toc-item-num\">4.1&nbsp;&nbsp;</span>mLG-HOO loop</a></span></li><li><span><a href=\"#Tree-Parzen-loop\" data-toc-modified-id=\"Tree-Parzen-loop-4.2\"><span class=\"toc-item-num\">4.2&nbsp;&nbsp;</span>Tree Parzen loop</a></span></li><li><span><a href=\"#Nelder-mead-loop\" data-toc-modified-id=\"Nelder-mead-loop-4.3\"><span class=\"toc-item-num\">4.3&nbsp;&nbsp;</span>Nelder-mead loop</a></span></li><li><span><a href=\"#Random-loop\" data-toc-modified-id=\"Random-loop-4.4\"><span class=\"toc-item-num\">4.4&nbsp;&nbsp;</span>Random loop</a></span></li><li><span><a href=\"#Assembling-data-for-analysis\" data-toc-modified-id=\"Assembling-data-for-analysis-4.5\"><span class=\"toc-item-num\">4.5&nbsp;&nbsp;</span>Assembling data for analysis</a></span></li></ul></li><li><span><a href=\"#Miele-optimization\" data-toc-modified-id=\"Miele-optimization-5\"><span class=\"toc-item-num\">5&nbsp;&nbsp;</span>Miele optimization</a></span><ul class=\"toc-item\"><li><span><a href=\"#mLG-HOO-loop\" data-toc-modified-id=\"mLG-HOO-loop-5.1\"><span class=\"toc-item-num\">5.1&nbsp;&nbsp;</span>mLG-HOO loop</a></span></li><li><span><a href=\"#Tree-Parzen-loop\" data-toc-modified-id=\"Tree-Parzen-loop-5.2\"><span class=\"toc-item-num\">5.2&nbsp;&nbsp;</span>Tree Parzen loop</a></span></li><li><span><a href=\"#Nelder-Mead-loop\" data-toc-modified-id=\"Nelder-Mead-loop-5.3\"><span class=\"toc-item-num\">5.3&nbsp;&nbsp;</span>Nelder-Mead loop</a></span></li><li><span><a href=\"#Random-Estimator-loop\" data-toc-modified-id=\"Random-Estimator-loop-5.4\"><span class=\"toc-item-num\">5.4&nbsp;&nbsp;</span>Random Estimator loop</a></span></li><li><span><a href=\"#Assembling-data-for-analysis\" data-toc-modified-id=\"Assembling-data-for-analysis-5.5\"><span class=\"toc-item-num\">5.5&nbsp;&nbsp;</span>Assembling data for analysis</a></span></li></ul></li><li><span><a href=\"#Paviani-optimization\" data-toc-modified-id=\"Paviani-optimization-6\"><span class=\"toc-item-num\">6&nbsp;&nbsp;</span>Paviani optimization</a></span><ul class=\"toc-item\"><li><span><a href=\"#mLG-HOO-loop\" data-toc-modified-id=\"mLG-HOO-loop-6.1\"><span class=\"toc-item-num\">6.1&nbsp;&nbsp;</span>mLG-HOO loop</a></span></li><li><span><a href=\"#Tree-Parzen-loop\" data-toc-modified-id=\"Tree-Parzen-loop-6.2\"><span class=\"toc-item-num\">6.2&nbsp;&nbsp;</span>Tree Parzen loop</a></span></li><li><span><a href=\"#Nelder-Mead-loop\" data-toc-modified-id=\"Nelder-Mead-loop-6.3\"><span class=\"toc-item-num\">6.3&nbsp;&nbsp;</span>Nelder-Mead loop</a></span></li><li><span><a href=\"#Random-Estimator-loop\" data-toc-modified-id=\"Random-Estimator-loop-6.4\"><span class=\"toc-item-num\">6.4&nbsp;&nbsp;</span>Random Estimator loop</a></span></li><li><span><a href=\"#Assembling-data-for-analysis\" data-toc-modified-id=\"Assembling-data-for-analysis-6.5\"><span class=\"toc-item-num\">6.5&nbsp;&nbsp;</span>Assembling data for analysis</a></span></li></ul></li></ul></div>"
   ]
  },
  {
   "cell_type": "markdown",
   "metadata": {},
   "source": [
    "# Importing"
   ]
  },
  {
   "cell_type": "code",
   "execution_count": 1,
   "metadata": {},
   "outputs": [],
   "source": [
    "from mLGHOO import *\n",
    "from NelderMead import *\n",
    "from utils import *\n",
    "from benderopt.base import OptimizationProblem, Observation\n",
    "from benderopt.optimizer import optimizers\n",
    "import numpy as np\n",
    "import pandas as pd\n",
    "import logging\n",
    "from timeit import default_timer as timer\n",
    "\n",
    "logging.basicConfig(level=logging.CRITICAL)\n",
    "logger = logging.getLogger(__name__)\n",
    "\n",
    "%matplotlib inline\n",
    "import matplotlib.pyplot as plt"
   ]
  },
  {
   "cell_type": "code",
   "execution_count": 2,
   "metadata": {},
   "outputs": [],
   "source": [
    "np.random.seed(3)\n",
    "nsim=1"
   ]
  },
  {
   "cell_type": "markdown",
   "metadata": {},
   "source": [
    "# Defining the functions"
   ]
  },
  {
   "cell_type": "code",
   "execution_count": 3,
   "metadata": {},
   "outputs": [],
   "source": [
    "class SixHumpCamelBack(CostFunctions):\n",
    "    maxValue = 1.036   \n",
    "    maxX = [[-0.0898, 0.7126],[0.0898, -0.7126]]\n",
    "    def func(self,x):\n",
    "        x1 = x[0]\n",
    "        x2 = x[1]\n",
    "        value = -1 * (4.0 - 2.1 * (x1 ** 2) + (x1 ** 4) / 3.0) * x1 ** 2 - x1 * x2 - (4 * (x2 ** 2) - 4) * (x2 ** 2)\n",
    "        return value\n"
   ]
  },
  {
   "cell_type": "code",
   "execution_count": 4,
   "metadata": {},
   "outputs": [],
   "source": [
    "class Easom(CostFunctions):\n",
    "    maxValue = 1.00\n",
    "    maxX = [[3.1416, 3.1416]]\n",
    "    def func(self, x):\n",
    "        x1 = x[0]\n",
    "        x2 = x[1]\n",
    "        value = np.cos(x1) * np.cos(x2) * np.exp(-(x1 - np.pi) ** 2 - (x2 - np.pi) ** 2)\n",
    "        return value\n"
   ]
  },
  {
   "cell_type": "code",
   "execution_count": 5,
   "metadata": {},
   "outputs": [],
   "source": [
    "class Miele(CostFunctions): \n",
    "    maxValue= 0\n",
    "    maxX = [[0,1,1,1]]\n",
    "    def func(self, x):\n",
    "        x1 = x[0]\n",
    "        x2 = x[1]\n",
    "        x3 = x[2]\n",
    "        x4 = x[3]\n",
    "        value = -(np.exp(-x1)-x2)**4 - 100*(x2-x3)**6 - (np.tan(x3-x4))**4 - x1**8\n",
    "        return value"
   ]
  },
  {
   "cell_type": "code",
   "execution_count": 6,
   "metadata": {},
   "outputs": [],
   "source": [
    "class Paviani(CostFunctions):     \n",
    "    maxValue = 45.788\n",
    "    maxX = [[9.351, 9.351,9.351,9.351,9.351,9.351,9.351,9.351,9.351,9.351]]\n",
    "    def func(self, x):\n",
    "        psum = 0\n",
    "        product = 1\n",
    "        for xi in x:\n",
    "            interm = (np.log(xi - 2)) ** 2 + (np.log(10 - xi)) ** 2\n",
    "            psum = psum + interm\n",
    "            product = xi * product\n",
    "        value = -psum + np.power(product, 0.2)\n",
    "        return value"
   ]
  },
  {
   "cell_type": "markdown",
   "metadata": {},
   "source": [
    "# Six Hump Back Camel optimization"
   ]
  },
  {
   "cell_type": "code",
   "execution_count": 7,
   "metadata": {},
   "outputs": [],
   "source": [
    "horizon = 1000\n",
    "sd=1.5"
   ]
  },
  {
   "cell_type": "markdown",
   "metadata": {},
   "source": [
    "## mLG-HOO loop"
   ]
  },
  {
   "cell_type": "code",
   "execution_count": 8,
   "metadata": {},
   "outputs": [
    {
     "name": "stdout",
     "output_type": "stream",
     "text": [
      "Starting mLGHOO round:  0\n",
      "Ending mlghoo\n"
     ]
    }
   ],
   "source": [
    "mlghoo_problem = [{\n",
    "        \"name\": \"x1\",\n",
    "        \"height_limit\": 20,\n",
    "        \"arm_min\": -1.0,\n",
    "        \"arm_max\": 1.0,\n",
    "    },\n",
    "    {\n",
    "        \"name\": \"x2\",\n",
    "        \"height_limit\": 20,\n",
    "        \"arm_min\": -1.0,\n",
    "        \"arm_max\": 1.0,\n",
    "}]\n",
    "mlghoo_results=[]\n",
    "\n",
    "for isim in range(nsim):\n",
    "    func_mlghoo = SixHumpCamelBack(maxvalue=SixHumpCamelBack.maxValue,\n",
    "                                   optimal_arms=SixHumpCamelBack.maxX,\n",
    "                                   maxiter=horizon, \n",
    "                                   toMaximize=True, \n",
    "                                   sd =sd)\n",
    "    mlghoo = mLGHOO(arms_def=mlghoo_problem, \n",
    "                    v1=10.0, \n",
    "                    rho=0.5, \n",
    "                    minimum_grow=3, \n",
    "                    p_vector=None)\n",
    "\n",
    "    print('Starting mLGHOO round: ', isim)\n",
    "    start = timer()\n",
    "    for i in range(horizon):\n",
    "        arm = mlghoo.select_arm()\n",
    "        reward = func_mlghoo(arm)\n",
    "        mlghoo.update(chosen_arm=arm, reward=reward)\n",
    "    end = timer()\n",
    "    timetocomplete = end-start\n",
    "    print('Ending mlghoo')\n",
    "    mlghoo_results.append(func_mlghoo.generate_info(best_arm=mlghoo.get_best_arm_value(),\n",
    "                                                    timetocomplete=timetocomplete,\n",
    "                                                    algorithm='mLGHOO'))"
   ]
  },
  {
   "cell_type": "markdown",
   "metadata": {},
   "source": [
    "## Tree Parzen loop"
   ]
  },
  {
   "cell_type": "code",
   "execution_count": 9,
   "metadata": {},
   "outputs": [
    {
     "name": "stdout",
     "output_type": "stream",
     "text": [
      "Starting parzen round 0\n"
     ]
    }
   ],
   "source": [
    "parzen_problem_parameters = [{\n",
    "    \"name\": \"x1\",\n",
    "    \"category\": \"uniform\",\n",
    "    \"search_space\": \n",
    "        {\n",
    "        \"low\": -1.0,\n",
    "        \"high\": 1.0,\n",
    "        }\n",
    "    },\n",
    "    {\n",
    "    \"name\": \"x2\",\n",
    "    \"category\": \"uniform\",\n",
    "    \"search_space\":\n",
    "        {\n",
    "        \"low\": -1.0,\n",
    "        \"high\": 1.0,\n",
    "        }\n",
    "}]\n",
    "\n",
    "parzen_results=[]\n",
    "for isim in range(nsim):\n",
    "    func_parzen = SixHumpCamelBack(maxvalue=SixHumpCamelBack.maxValue,\n",
    "                                   optimal_arms=SixHumpCamelBack.maxX,\n",
    "                                   maxiter=horizon, \n",
    "                                   toMaximize=True, \n",
    "                                   sd =sd)\n",
    "    parzen_optimization_problem = OptimizationProblem.from_list(parzen_problem_parameters)\n",
    "    parzen_optimizer = optimizers[\"parzen_estimator\"](parzen_optimization_problem)\n",
    "\n",
    "    print('Starting parzen round', isim)\n",
    "    start = timer()\n",
    "    for i in range(horizon):\n",
    "        sample = parzen_optimizer.suggest()\n",
    "        loss = func_parzen([\n",
    "                            sample['x1'],\n",
    "                            sample['x2']\n",
    "                        ])\n",
    "        observation = Observation.from_dict({\"loss\": loss, \"sample\": sample})\n",
    "        parzen_optimization_problem.add_observation(observation)\n",
    "    end = timer()\n",
    "    timetocomplete = end-start\n",
    "    bestsample = [parzen_optimization_problem.best_sample['x1'], \n",
    "                  parzen_optimization_problem.best_sample['x2']]\n",
    "    parzen_results.append(func_parzen.generate_info(best_arm=bestsample,\n",
    "                                                    timetocomplete=timetocomplete,\n",
    "                                                    algorithm='PTE'))"
   ]
  },
  {
   "cell_type": "markdown",
   "metadata": {},
   "source": [
    "## Nelder-Mead"
   ]
  },
  {
   "cell_type": "code",
   "execution_count": 10,
   "metadata": {},
   "outputs": [
    {
     "name": "stdout",
     "output_type": "stream",
     "text": [
      "Starting nelder-mead round:  0\n",
      "Ending nelder-mead\n"
     ]
    }
   ],
   "source": [
    "neldermead_results=[]\n",
    "for isim in range(nsim):\n",
    "\n",
    "\n",
    "    print('Starting nelder-mead round: ', isim)\n",
    "    while True:#THe while loop is to guarantee we only have complete optimzations within the horizon\n",
    "        try:\n",
    "            func_neldermead = SixHumpCamelBack(maxvalue=SixHumpCamelBack.maxValue,\n",
    "                                   optimal_arms=SixHumpCamelBack.maxX,\n",
    "                                   maxiter=horizon, \n",
    "                                   toMaximize=True, \n",
    "                                   sd =sd)\n",
    "            neldermead = NelderMead(func=func_neldermead)\n",
    "            start = timer()\n",
    "            neldermead.run(x0=[0.1,0],horizon=int(horizon))\n",
    "            end = timer()\n",
    "            timetocomplete = end-start\n",
    "            neldermead_results.append(func_neldermead.generate_info(best_arm=neldermead.res.x,                                                      timetocomplete=timetocomplete,\n",
    "                                                        algorithm='Nelder-Mead'))\n",
    "        except Exception as e:\n",
    "            continue\n",
    "        break\n",
    "    print('Ending nelder-mead')\n",
    "    "
   ]
  },
  {
   "cell_type": "markdown",
   "metadata": {},
   "source": [
    "## Random"
   ]
  },
  {
   "cell_type": "code",
   "execution_count": 11,
   "metadata": {},
   "outputs": [
    {
     "name": "stdout",
     "output_type": "stream",
     "text": [
      "Starting random round:  0\n"
     ]
    }
   ],
   "source": [
    "random_problem_parameters = [{\n",
    "    \"name\": \"x1\",\n",
    "    \"category\": \"uniform\",\n",
    "    \"search_space\": \n",
    "        {\n",
    "        \"low\": -1.0,\n",
    "        \"high\": 1.0,\n",
    "        }\n",
    "    },\n",
    "    {\n",
    "    \"name\": \"x2\",\n",
    "    \"category\": \"uniform\",\n",
    "    \"search_space\":\n",
    "        {\n",
    "        \"low\": -1.0,\n",
    "        \"high\": 1.0,\n",
    "        }\n",
    "}]\n",
    "\n",
    "random_results=[]\n",
    "for isim in range(nsim):\n",
    "    func_random = SixHumpCamelBack(maxvalue=SixHumpCamelBack.maxValue,\n",
    "                                   optimal_arms=SixHumpCamelBack.maxX,\n",
    "                                   maxiter=horizon, \n",
    "                                   toMaximize=True, \n",
    "                                   sd =sd)\n",
    "    random_optimization_problem = OptimizationProblem.from_list(random_problem_parameters)\n",
    "    random_optimizer = optimizers[\"random\"](random_optimization_problem)\n",
    "\n",
    "    print('Starting random round: ', isim)\n",
    "    start = timer()\n",
    "    for i in range(horizon):\n",
    "        sample = random_optimizer.suggest()\n",
    "        loss = func_random([\n",
    "                            sample['x1'],\n",
    "                            sample['x2']\n",
    "        ])\n",
    "        observation = Observation.from_dict({\"loss\": loss, \"sample\": sample})\n",
    "        random_optimization_problem.add_observation(observation)\n",
    "    end = timer()\n",
    "    timetocomplete = end-start\n",
    "    bestsample = [random_optimization_problem.best_sample['x1'], \n",
    "                  random_optimization_problem.best_sample['x2']]\n",
    "    random_results.append(func_random.generate_info(best_arm=bestsample,\n",
    "                                                    timetocomplete=timetocomplete,\n",
    "                                                    algorithm='Random'))"
   ]
  },
  {
   "cell_type": "markdown",
   "metadata": {},
   "source": [
    "## Assembling data for analysis"
   ]
  },
  {
   "cell_type": "code",
   "execution_count": 12,
   "metadata": {},
   "outputs": [],
   "source": [
    "mlghoodf = pd.DataFrame(mlghoo_results)\n",
    "parzendf = pd.DataFrame(parzen_results)\n",
    "neldermeaddf = pd.DataFrame(neldermead_results)\n",
    "randomddf = pd.DataFrame(random_results)\n",
    "sixhumpf = pd.concat([mlghoodf,parzendf,neldermeaddf,randomddf],ignore_index=True)\n",
    "sixhumpf.to_csv('sixhump.csv', sep=',', encoding='utf-8')"
   ]
  },
  {
   "cell_type": "markdown",
   "metadata": {},
   "source": [
    "# Easom optimization"
   ]
  },
  {
   "cell_type": "code",
   "execution_count": 13,
   "metadata": {},
   "outputs": [],
   "source": [
    "horizon = 1000\n",
    "sd=1.5"
   ]
  },
  {
   "cell_type": "markdown",
   "metadata": {},
   "source": [
    "## mLG-HOO loop"
   ]
  },
  {
   "cell_type": "code",
   "execution_count": 14,
   "metadata": {},
   "outputs": [
    {
     "name": "stdout",
     "output_type": "stream",
     "text": [
      "Starting mLGHOO round:  0\n",
      "Ending mlghoo\n"
     ]
    }
   ],
   "source": [
    "mlghoo_problem = [{\n",
    "        \"name\": \"x1\",\n",
    "        \"height_limit\": 20,\n",
    "        \"arm_min\": -5.0,\n",
    "        \"arm_max\": 5.0,\n",
    "    },\n",
    "    {\n",
    "        \"name\": \"x2\",\n",
    "        \"height_limit\": 20,\n",
    "        \"arm_min\": -5.0,\n",
    "        \"arm_max\": 5.0,\n",
    "}]\n",
    "mlghoo_results=[]\n",
    "\n",
    "for isim in range(nsim):\n",
    "    func_mlghoo = Easom(maxvalue=Easom.maxValue,\n",
    "                                   optimal_arms=Easom.maxX,\n",
    "                                   maxiter=horizon, \n",
    "                                   toMaximize=True, \n",
    "                                   sd =sd)\n",
    "    mlghoo = mLGHOO(arms_def=mlghoo_problem, \n",
    "                    v1=10.0, \n",
    "                    rho=0.5, \n",
    "                    minimum_grow=3, \n",
    "                    p_vector=None)\n",
    "\n",
    "    print('Starting mLGHOO round: ', isim)\n",
    "    start = timer()\n",
    "    for i in range(horizon):\n",
    "        arm = mlghoo.select_arm()\n",
    "        reward = func_mlghoo(arm)\n",
    "        mlghoo.update(chosen_arm=arm, reward=reward)\n",
    "    end = timer()\n",
    "    timetocomplete = end-start\n",
    "    print('Ending mlghoo')\n",
    "    mlghoo_results.append(func_mlghoo.generate_info(best_arm=mlghoo.get_best_arm_value(),\n",
    "                                                    timetocomplete=timetocomplete,\n",
    "                                                    algorithm='mLGHOO'))"
   ]
  },
  {
   "cell_type": "markdown",
   "metadata": {},
   "source": [
    "## Tree Parzen loop"
   ]
  },
  {
   "cell_type": "code",
   "execution_count": 15,
   "metadata": {},
   "outputs": [
    {
     "name": "stdout",
     "output_type": "stream",
     "text": [
      "Starting parzen round 0\n"
     ]
    }
   ],
   "source": [
    "parzen_problem_parameters = [{\n",
    "    \"name\": \"x1\",\n",
    "    \"category\": \"uniform\",\n",
    "    \"search_space\": \n",
    "        {\n",
    "        \"low\": -5.0,\n",
    "        \"high\": 5.0,\n",
    "        }\n",
    "    },\n",
    "    {\n",
    "    \"name\": \"x2\",\n",
    "    \"category\": \"uniform\",\n",
    "    \"search_space\":\n",
    "        {\n",
    "        \"low\": -5.0,\n",
    "        \"high\": 5.0,\n",
    "        }\n",
    "}]\n",
    "\n",
    "parzen_results=[]\n",
    "for isim in range(nsim):\n",
    "    func_parzen = Easom(maxvalue=Easom.maxValue,\n",
    "                                   optimal_arms=Easom.maxX,\n",
    "                                   maxiter=horizon, \n",
    "                                   toMaximize=True, \n",
    "                                   sd =sd)\n",
    "    parzen_optimization_problem = OptimizationProblem.from_list(parzen_problem_parameters)\n",
    "    parzen_optimizer = optimizers[\"parzen_estimator\"](parzen_optimization_problem)\n",
    "\n",
    "    print('Starting parzen round', isim)\n",
    "    start = timer()\n",
    "    for i in range(horizon):\n",
    "        sample = parzen_optimizer.suggest()\n",
    "        loss = func_parzen([\n",
    "                            sample['x1'],\n",
    "                            sample['x2']\n",
    "        ])\n",
    "        observation = Observation.from_dict({\"loss\": loss, \"sample\": sample})\n",
    "        parzen_optimization_problem.add_observation(observation)\n",
    "    end = timer()\n",
    "    timetocomplete = end-start\n",
    "    bestsample = [parzen_optimization_problem.best_sample['x1'], \n",
    "                  parzen_optimization_problem.best_sample['x2']]\n",
    "    parzen_results.append(func_parzen.generate_info(best_arm=bestsample,\n",
    "                                                    timetocomplete=timetocomplete,\n",
    "                                                    algorithm='PTE'))"
   ]
  },
  {
   "cell_type": "markdown",
   "metadata": {},
   "source": [
    "## Nelder-mead loop"
   ]
  },
  {
   "cell_type": "code",
   "execution_count": 16,
   "metadata": {},
   "outputs": [
    {
     "name": "stdout",
     "output_type": "stream",
     "text": [
      "Starting nelder-mead round:  0\n",
      "Ending nelder-mead\n"
     ]
    }
   ],
   "source": [
    "neldermead_results=[]\n",
    "for isim in range(nsim):\n",
    "\n",
    "\n",
    "    print('Starting nelder-mead round: ', isim)\n",
    "    while True:#THe while loop is to guarantee we only have complete optimzations within the horizon\n",
    "        try:\n",
    "            func_neldermead = Easom(maxvalue=Easom.maxValue,\n",
    "                                   optimal_arms=Easom.maxX,\n",
    "                                   maxiter=horizon, \n",
    "                                   toMaximize=True, \n",
    "                                   sd =sd)\n",
    "            neldermead = NelderMead(func=func_neldermead)\n",
    "            start = timer()\n",
    "            neldermead.run(x0=[0,0],horizon=int(horizon))\n",
    "            end = timer()\n",
    "            timetocomplete = end-start\n",
    "            neldermead_results.append(func_neldermead.generate_info(best_arm=neldermead.res.x,                                                      timetocomplete=timetocomplete,\n",
    "                                                        algorithm='Nelder-Mead'))\n",
    "        except Exception as e:\n",
    "            continue\n",
    "        break\n",
    "    print('Ending nelder-mead')\n",
    "    "
   ]
  },
  {
   "cell_type": "markdown",
   "metadata": {},
   "source": [
    "## Random loop"
   ]
  },
  {
   "cell_type": "code",
   "execution_count": 17,
   "metadata": {},
   "outputs": [
    {
     "name": "stdout",
     "output_type": "stream",
     "text": [
      "Starting random round:  0\n"
     ]
    }
   ],
   "source": [
    "random_problem_parameters = [{\n",
    "    \"name\": \"x1\",\n",
    "    \"category\": \"uniform\",\n",
    "    \"search_space\": \n",
    "        {\n",
    "        \"low\": -5.0,\n",
    "        \"high\": 5.0,\n",
    "        }\n",
    "    },\n",
    "    {\n",
    "    \"name\": \"x2\",\n",
    "    \"category\": \"uniform\",\n",
    "    \"search_space\":\n",
    "        {\n",
    "        \"low\": -5.0,\n",
    "        \"high\": 5.0,\n",
    "        }\n",
    "}]\n",
    "\n",
    "random_results=[]\n",
    "for isim in range(nsim):\n",
    "    func_random = Easom(maxvalue=Easom.maxValue,\n",
    "                                   optimal_arms=Easom.maxX,\n",
    "                                   maxiter=horizon, \n",
    "                                   toMaximize=True, \n",
    "                                   sd =sd)\n",
    "    random_optimization_problem = OptimizationProblem.from_list(random_problem_parameters)\n",
    "    random_optimizer = optimizers[\"random\"](random_optimization_problem)\n",
    "\n",
    "    print('Starting random round: ', isim)\n",
    "    start = timer()\n",
    "    for i in range(horizon):\n",
    "        sample = random_optimizer.suggest()\n",
    "        loss = func_random([\n",
    "                            sample['x1'],\n",
    "                            sample['x2']\n",
    "        ])\n",
    "        observation = Observation.from_dict({\"loss\": loss, \"sample\": sample})\n",
    "        random_optimization_problem.add_observation(observation)\n",
    "    end = timer()\n",
    "    timetocomplete = end-start\n",
    "    bestsample = [random_optimization_problem.best_sample['x1'], \n",
    "                  random_optimization_problem.best_sample['x2']]\n",
    "    random_results.append(func_random.generate_info(best_arm=bestsample,\n",
    "                                                    timetocomplete=timetocomplete,\n",
    "                                                    algorithm='Random'))"
   ]
  },
  {
   "cell_type": "markdown",
   "metadata": {},
   "source": [
    "## Assembling data for analysis"
   ]
  },
  {
   "cell_type": "code",
   "execution_count": 18,
   "metadata": {},
   "outputs": [],
   "source": [
    "mlghoodf = pd.DataFrame(mlghoo_results)\n",
    "parzendf = pd.DataFrame(parzen_results)\n",
    "neldermeaddf = pd.DataFrame(neldermead_results)\n",
    "randomddf = pd.DataFrame(random_results)\n",
    "easomdf = pd.concat([mlghoodf,parzendf,neldermeaddf,randomddf],ignore_index=True)\n",
    "easomdf.to_csv('easom.csv', sep=',', encoding='utf-8')"
   ]
  },
  {
   "cell_type": "markdown",
   "metadata": {},
   "source": [
    "# Miele optimization"
   ]
  },
  {
   "cell_type": "code",
   "execution_count": 19,
   "metadata": {},
   "outputs": [],
   "source": [
    "horizon = 2000\n",
    "sd=1.5"
   ]
  },
  {
   "cell_type": "markdown",
   "metadata": {},
   "source": [
    "## mLG-HOO loop"
   ]
  },
  {
   "cell_type": "code",
   "execution_count": 20,
   "metadata": {},
   "outputs": [
    {
     "name": "stdout",
     "output_type": "stream",
     "text": [
      "Starting mLGHOO round:  0\n",
      "Ending mlghoo\n"
     ]
    }
   ],
   "source": [
    "mlghoo_problem = [{\n",
    "        \"name\": \"x1\",\n",
    "        \"height_limit\": 50,\n",
    "        \"arm_min\": -1.0,\n",
    "        \"arm_max\": 2.0,\n",
    "        },\n",
    "        {\n",
    "            \"name\": \"x2\",\n",
    "            \"height_limit\": 50,\n",
    "            \"arm_min\": -1.0,\n",
    "            \"arm_max\": 2.0,\n",
    "        },\n",
    "        {\n",
    "            \"name\": \"x3\",\n",
    "            \"height_limit\": 50,\n",
    "            \"arm_min\": -1,\n",
    "            \"arm_max\": 2.0,\n",
    "        },\n",
    "        {\n",
    "            \"name\": \"x4\",\n",
    "            \"height_limit\": 50,\n",
    "            \"arm_min\": -1.0,\n",
    "            \"arm_max\": 2.0,\n",
    "        }\n",
    "        ]\n",
    "\n",
    "mlghoo_results=[]\n",
    "\n",
    "for isim in range(nsim):\n",
    "    func_mlghoo = Miele(maxvalue=Miele.maxValue,\n",
    "                                   optimal_arms=Miele.maxX,\n",
    "                                   maxiter=horizon, \n",
    "                                   toMaximize=True, \n",
    "                                   sd =sd)\n",
    "    mlghoo = mLGHOO(arms_def=mlghoo_problem, \n",
    "                    v1=10.0, \n",
    "                    rho=0.5, \n",
    "                    minimum_grow=3, \n",
    "                    p_vector=None)\n",
    "\n",
    "    print('Starting mLGHOO round: ', isim)\n",
    "    start = timer()\n",
    "    for i in range(horizon):\n",
    "        arm = mlghoo.select_arm()\n",
    "        reward = func_mlghoo(arm)\n",
    "        mlghoo.update(chosen_arm=arm, reward=reward)\n",
    "    end = timer()\n",
    "    timetocomplete = end-start\n",
    "    print('Ending mlghoo')\n",
    "    mlghoo_results.append(func_mlghoo.generate_info(best_arm=mlghoo.get_best_arm_value(),\n",
    "                                                    timetocomplete=timetocomplete,\n",
    "                                                    algorithm='mLGHOO'))"
   ]
  },
  {
   "cell_type": "markdown",
   "metadata": {},
   "source": [
    "## Tree Parzen loop"
   ]
  },
  {
   "cell_type": "code",
   "execution_count": 21,
   "metadata": {},
   "outputs": [
    {
     "name": "stdout",
     "output_type": "stream",
     "text": [
      "Starting parzen round 0\n"
     ]
    }
   ],
   "source": [
    "parzen_problem_parameters = [{\n",
    "    \"name\": \"x1\",\n",
    "    \"category\": \"uniform\",\n",
    "    \"search_space\": \n",
    "        {\n",
    "        \"low\": -1.0,\n",
    "        \"high\": 2.0,\n",
    "        }\n",
    "    },\n",
    "    {\n",
    "    \"name\": \"x2\",\n",
    "    \"category\": \"uniform\",\n",
    "    \"search_space\":\n",
    "        {\n",
    "        \"low\": -1.0,\n",
    "        \"high\": 2.0,\n",
    "        }\n",
    "    },\n",
    "    {\n",
    "    \"name\": \"x3\",\n",
    "    \"category\": \"uniform\",\n",
    "    \"search_space\":\n",
    "        {\n",
    "        \"low\": -1.0,\n",
    "        \"high\": 2.0,\n",
    "        }\n",
    "    },\n",
    "    {\n",
    "    \"name\": \"x4\",\n",
    "    \"category\": \"uniform\",\n",
    "    \"search_space\":\n",
    "        {\n",
    "        \"low\": -1.0,\n",
    "        \"high\": 2.0,\n",
    "        }\n",
    "    }\n",
    "]\n",
    "parzen_results=[]\n",
    "for isim in range(nsim):\n",
    "    func_parzen = Miele(maxvalue=Miele.maxValue,\n",
    "                                   optimal_arms=Miele.maxX,\n",
    "                                   maxiter=horizon, \n",
    "                                   toMaximize=True, \n",
    "                                   sd =sd)\n",
    "    parzen_optimization_problem = OptimizationProblem.from_list(parzen_problem_parameters)\n",
    "    parzen_optimizer = optimizers[\"parzen_estimator\"](parzen_optimization_problem)\n",
    "\n",
    "    print('Starting parzen round', isim)\n",
    "    start = timer()\n",
    "    for i in range(horizon):\n",
    "        sample = parzen_optimizer.suggest()\n",
    "        loss = func_parzen([\n",
    "                            sample['x1'],\n",
    "                            sample['x2'],\n",
    "                            sample['x3'],\n",
    "                            sample['x4']\n",
    "        ])\n",
    "        observation = Observation.from_dict({\"loss\": loss, \"sample\": sample})\n",
    "        parzen_optimization_problem.add_observation(observation)\n",
    "    end = timer()\n",
    "    timetocomplete = end-start\n",
    "    bestsample = [random_optimization_problem.best_sample['x1'], \n",
    "              parzen_optimization_problem.best_sample['x2'],\n",
    "              parzen_optimization_problem.best_sample['x3'], \n",
    "              parzen_optimization_problem.best_sample['x4']]\n",
    "    parzen_results.append(func_parzen.generate_info(best_arm=bestsample,\n",
    "                                                    timetocomplete=timetocomplete,\n",
    "                                                    algorithm='PTE'))"
   ]
  },
  {
   "cell_type": "markdown",
   "metadata": {},
   "source": [
    "## Nelder-Mead loop"
   ]
  },
  {
   "cell_type": "code",
   "execution_count": 22,
   "metadata": {},
   "outputs": [
    {
     "name": "stdout",
     "output_type": "stream",
     "text": [
      "Starting nelder-mead round:  0\n",
      "Ending nelder-mead\n"
     ]
    }
   ],
   "source": [
    "neldermead_results=[]\n",
    "for isim in range(nsim):\n",
    "\n",
    "\n",
    "    print('Starting nelder-mead round: ', isim)\n",
    "    while True:#THe while loop is to guarantee we only have complete optimzations within the horizon\n",
    "        try:\n",
    "            func_neldermead = Miele(maxvalue=Miele.maxValue,\n",
    "                                   optimal_arms=Miele.maxX,\n",
    "                                   maxiter=horizon, \n",
    "                                   toMaximize=True, \n",
    "                                   sd =sd)\n",
    "            neldermead = NelderMead(func=func_neldermead)\n",
    "            start = timer()\n",
    "            neldermead.run(x0=[0.5,0.5,0.5,0.5],horizon=int(horizon))\n",
    "            end = timer()\n",
    "            timetocomplete = end-start\n",
    "            neldermead_results.append(func_neldermead.generate_info(best_arm=neldermead.res.x,                                                      timetocomplete=timetocomplete,\n",
    "                                                        algorithm='Nelder-Mead'))\n",
    "        except Exception as e:\n",
    "            continue\n",
    "        break\n",
    "    print('Ending nelder-mead')\n",
    "    "
   ]
  },
  {
   "cell_type": "code",
   "execution_count": 23,
   "metadata": {},
   "outputs": [
    {
     "name": "stdout",
     "output_type": "stream",
     "text": [
      "Starting nelder-mead round:  0\n"
     ]
    },
    {
     "name": "stderr",
     "output_type": "stream",
     "text": [
      "/Users/davidis/anaconda3/envs/mlghoo-journal/lib/python3.6/site-packages/ipykernel_launcher.py:9: RuntimeWarning: overflow encountered in double_scalars\n",
      "  if __name__ == '__main__':\n"
     ]
    },
    {
     "name": "stdout",
     "output_type": "stream",
     "text": [
      "Ending nelder-mead\n"
     ]
    }
   ],
   "source": [
    "neldermead_results2=[]\n",
    "for isim in range(nsim):\n",
    "\n",
    "\n",
    "    print('Starting nelder-mead round: ', isim)\n",
    "    while True:#THe while loop is to guarantee we only have complete optimzations within the horizon\n",
    "        try:\n",
    "            func_neldermead = Miele(maxvalue=Miele.maxValue,\n",
    "                                   optimal_arms=Miele.maxX,\n",
    "                                   maxiter=horizon, \n",
    "                                   toMaximize=True, \n",
    "                                   sd =sd)\n",
    "            neldermead = NelderMead(func=func_neldermead)\n",
    "            start = timer()\n",
    "            neldermead.run(x0=[1.5,-0.5,0.5,0.1],horizon=int(horizon))\n",
    "            end = timer()\n",
    "            timetocomplete = end-start\n",
    "            neldermead_results2.append(func_neldermead.generate_info(best_arm=neldermead.res.x,                                                      timetocomplete=timetocomplete,\n",
    "                                                        algorithm='Nelder-Mead'))\n",
    "        except Exception as e:\n",
    "            continue\n",
    "        break\n",
    "    print('Ending nelder-mead')\n",
    "    "
   ]
  },
  {
   "cell_type": "markdown",
   "metadata": {},
   "source": [
    "## Random Estimator loop"
   ]
  },
  {
   "cell_type": "code",
   "execution_count": 24,
   "metadata": {},
   "outputs": [
    {
     "name": "stdout",
     "output_type": "stream",
     "text": [
      "Starting random round:  0\n"
     ]
    }
   ],
   "source": [
    "random_problem_parameters = [{\n",
    "     \"name\": \"x1\",\n",
    "    \"category\": \"uniform\",\n",
    "    \"search_space\": \n",
    "        {\n",
    "        \"low\": -1.0,\n",
    "        \"high\": 2.0,\n",
    "        }\n",
    "    },\n",
    "    {\n",
    "    \"name\": \"x2\",\n",
    "    \"category\": \"uniform\",\n",
    "    \"search_space\":\n",
    "        {\n",
    "        \"low\": -1.0,\n",
    "        \"high\": 2.0,\n",
    "        }\n",
    "    },\n",
    "    {\n",
    "    \"name\": \"x3\",\n",
    "    \"category\": \"uniform\",\n",
    "    \"search_space\":\n",
    "        {\n",
    "        \"low\": -1.0,\n",
    "        \"high\": 2.0,\n",
    "        }\n",
    "    },\n",
    "    {\n",
    "    \"name\": \"x4\",\n",
    "    \"category\": \"uniform\",\n",
    "    \"search_space\":\n",
    "        {\n",
    "        \"low\": -1.0,\n",
    "        \"high\": 2.0,\n",
    "        }\n",
    "    }\n",
    "]\n",
    "\n",
    "random_results=[]\n",
    "for isim in range(nsim):\n",
    "    func_random = Miele(maxvalue=Miele.maxValue,\n",
    "                                   optimal_arms=Miele.maxX,\n",
    "                                   maxiter=horizon, \n",
    "                                   toMaximize=True, \n",
    "                                   sd =sd)\n",
    "    random_optimization_problem = OptimizationProblem.from_list(random_problem_parameters)\n",
    "    random_optimizer = optimizers[\"random\"](random_optimization_problem)\n",
    "\n",
    "    print('Starting random round: ', isim)\n",
    "    start = timer()\n",
    "    for i in range(horizon):\n",
    "        sample = random_optimizer.suggest()\n",
    "        loss = func_random([sample['x1'],\n",
    "                            sample['x2'],\n",
    "                            sample['x3'],\n",
    "                            sample['x4']])\n",
    "        observation = Observation.from_dict({\"loss\": loss, \"sample\": sample})\n",
    "        random_optimization_problem.add_observation(observation)\n",
    "    end = timer()\n",
    "    timetocomplete = end-start\n",
    "    bestsample = [random_optimization_problem.best_sample['x1'], \n",
    "                  random_optimization_problem.best_sample['x2'],\n",
    "                  random_optimization_problem.best_sample['x3'], \n",
    "                  random_optimization_problem.best_sample['x4']]\n",
    "    random_results.append(func_random.generate_info(best_arm=bestsample,\n",
    "                                                    timetocomplete=timetocomplete,\n",
    "                                                    algorithm='Random'))"
   ]
  },
  {
   "cell_type": "markdown",
   "metadata": {},
   "source": [
    "## Assembling data for analysis"
   ]
  },
  {
   "cell_type": "code",
   "execution_count": 25,
   "metadata": {},
   "outputs": [],
   "source": [
    "mlghoodf = pd.DataFrame(mlghoo_results)\n",
    "parzendf = pd.DataFrame(parzen_results)\n",
    "neldermeaddf = pd.DataFrame(neldermead_results)\n",
    "randomddf = pd.DataFrame(random_results)\n",
    "mieledf = pd.concat([mlghoodf,parzendf,neldermeaddf,randomddf],ignore_index=True)\n",
    "mieledf.to_csv('miele.csv', sep=',', encoding='utf-8')"
   ]
  },
  {
   "cell_type": "code",
   "execution_count": 26,
   "metadata": {},
   "outputs": [],
   "source": [
    "pd.DataFrame(neldermead_results2).to_csv('neldermead2miele.csv', sep=',', encoding='utf-8')"
   ]
  },
  {
   "cell_type": "markdown",
   "metadata": {},
   "source": [
    "# Paviani optimization"
   ]
  },
  {
   "cell_type": "code",
   "execution_count": 27,
   "metadata": {},
   "outputs": [],
   "source": [
    "horizon = 5000\n",
    "sd=1.5"
   ]
  },
  {
   "cell_type": "markdown",
   "metadata": {},
   "source": [
    "## mLG-HOO loop"
   ]
  },
  {
   "cell_type": "code",
   "execution_count": 28,
   "metadata": {},
   "outputs": [
    {
     "name": "stdout",
     "output_type": "stream",
     "text": [
      "Starting mLGHOO round:  0\n",
      "Ending mlghoo\n"
     ]
    }
   ],
   "source": [
    "mlghoo_problem = [\n",
    "        {\n",
    "        \"name\": \"x1\",\n",
    "        \"height_limit\": 50,\n",
    "        \"arm_min\": 2.0,\n",
    "        \"arm_max\": 10.0,\n",
    "        },\n",
    "               {\n",
    "        \"name\": \"x2\",\n",
    "        \"height_limit\": 50,\n",
    "        \"arm_min\": 2.0,\n",
    "        \"arm_max\": 10.0,\n",
    "        },\n",
    "            {\n",
    "        \"name\": \"x3\",\n",
    "        \"height_limit\": 50,\n",
    "        \"arm_min\": 2.0,\n",
    "        \"arm_max\": 10.0,\n",
    "        },\n",
    "            {\n",
    "        \"name\": \"x4\",\n",
    "        \"height_limit\": 50,\n",
    "        \"arm_min\": 2.0,\n",
    "        \"arm_max\": 10.0,\n",
    "        },\n",
    "            {\n",
    "        \"name\": \"x5\",\n",
    "        \"height_limit\": 50,\n",
    "        \"arm_min\": 2.0,\n",
    "        \"arm_max\": 10.0,\n",
    "        },\n",
    "            {\n",
    "        \"name\": \"x6\",\n",
    "        \"height_limit\": 50,\n",
    "        \"arm_min\": 2.0,\n",
    "        \"arm_max\": 10.0,\n",
    "        },\n",
    "            {\n",
    "        \"name\": \"x7\",\n",
    "        \"height_limit\": 50,\n",
    "        \"arm_min\": 2.0,\n",
    "        \"arm_max\": 10.0,\n",
    "        },\n",
    "            {\n",
    "        \"name\": \"x8\",\n",
    "        \"height_limit\": 50,\n",
    "        \"arm_min\": 2.0,\n",
    "        \"arm_max\": 10.0,\n",
    "        },\n",
    "            {\n",
    "        \"name\": \"x9\",\n",
    "        \"height_limit\": 50,\n",
    "        \"arm_min\": 2.0,\n",
    "        \"arm_max\": 10.0,\n",
    "        },\n",
    "            {\n",
    "        \"name\": \"x10\",\n",
    "        \"height_limit\": 50,\n",
    "        \"arm_min\": 2.0,\n",
    "        \"arm_max\": 10.0,\n",
    "        }\n",
    "]\n",
    "\n",
    "mlghoo_results=[]\n",
    "\n",
    "for isim in range(nsim):\n",
    "    func_mlghoo = Paviani(maxvalue=Paviani.maxValue,\n",
    "                                   optimal_arms=Paviani.maxX,\n",
    "                                   maxiter=horizon, \n",
    "                                   toMaximize=True, \n",
    "                                   sd =sd)\n",
    "    mlghoo = mLGHOO(arms_def=mlghoo_problem, \n",
    "                    v1=10.0, \n",
    "                    rho=0.5, \n",
    "                    minimum_grow=3, \n",
    "                    p_vector=None)\n",
    "\n",
    "    print('Starting mLGHOO round: ', isim)\n",
    "    start = timer()\n",
    "    for i in range(horizon):\n",
    "        arm = mlghoo.select_arm()\n",
    "        reward = func_mlghoo(arm)\n",
    "        mlghoo.update(chosen_arm=arm, reward=reward)\n",
    "    end = timer()\n",
    "    timetocomplete = end-start\n",
    "    print('Ending mlghoo')\n",
    "    mlghoo_results.append(func_mlghoo.generate_info(best_arm=mlghoo.get_best_arm_value(),\n",
    "                                                    timetocomplete=timetocomplete,\n",
    "                                                    algorithm='mLGHOO'))"
   ]
  },
  {
   "cell_type": "markdown",
   "metadata": {},
   "source": [
    "## Tree Parzen loop"
   ]
  },
  {
   "cell_type": "code",
   "execution_count": 29,
   "metadata": {},
   "outputs": [
    {
     "name": "stdout",
     "output_type": "stream",
     "text": [
      "Starting parzen round 0\n"
     ]
    }
   ],
   "source": [
    "parzen_problem_parameters = [{\n",
    "    \"name\": \"x1\",\n",
    "    \"category\": \"uniform\",\n",
    "    \"search_space\": \n",
    "        {\n",
    "        \"low\": 2.0,\n",
    "        \"high\": 10.0,\n",
    "        }\n",
    "    },\n",
    "   {\n",
    "    \"name\": \"x2\",\n",
    "    \"category\": \"uniform\",\n",
    "    \"search_space\": \n",
    "        {\n",
    "        \"low\": 2.0,\n",
    "        \"high\": 10.0,\n",
    "        }\n",
    "    },\n",
    "   {\n",
    "    \"name\": \"x3\",\n",
    "    \"category\": \"uniform\",\n",
    "    \"search_space\": \n",
    "        {\n",
    "        \"low\": 2.0,\n",
    "        \"high\": 10.0,\n",
    "        }\n",
    "    },\n",
    "  {\n",
    "    \"name\": \"x4\",\n",
    "    \"category\": \"uniform\",\n",
    "    \"search_space\": \n",
    "        {\n",
    "        \"low\": 2.0,\n",
    "        \"high\": 10.0,\n",
    "        }\n",
    "    },\n",
    "    {\n",
    "    \"name\": \"x5\",\n",
    "    \"category\": \"uniform\",\n",
    "    \"search_space\": \n",
    "        {\n",
    "        \"low\": 2.0,\n",
    "        \"high\": 10.0,\n",
    "        }\n",
    "    },\n",
    "    {\n",
    "    \"name\": \"x6\",\n",
    "    \"category\": \"uniform\",\n",
    "    \"search_space\": \n",
    "        {\n",
    "        \"low\": 2.0,\n",
    "        \"high\": 10.0,\n",
    "        }\n",
    "    },\n",
    "    {\n",
    "    \"name\": \"x7\",\n",
    "    \"category\": \"uniform\",\n",
    "    \"search_space\": \n",
    "        {\n",
    "        \"low\": 2.0,\n",
    "        \"high\": 10.0,\n",
    "        }\n",
    "    },\n",
    "    {\n",
    "    \"name\": \"x8\",\n",
    "    \"category\": \"uniform\",\n",
    "    \"search_space\": \n",
    "        {\n",
    "        \"low\": 2.0,\n",
    "        \"high\": 10.0,\n",
    "        }\n",
    "    },\n",
    "    {\n",
    "    \"name\": \"x9\",\n",
    "    \"category\": \"uniform\",\n",
    "    \"search_space\": \n",
    "        {\n",
    "        \"low\": 2.0,\n",
    "        \"high\": 10.0,\n",
    "        }\n",
    "    },\n",
    "    {\n",
    "    \"name\": \"x10\",\n",
    "    \"category\": \"uniform\",\n",
    "    \"search_space\": \n",
    "        {\n",
    "        \"low\": 2.0,\n",
    "        \"high\": 10.0,\n",
    "        }\n",
    "    },\n",
    "]\n",
    "parzen_results=[]\n",
    "for isim in range(nsim):\n",
    "    func_parzen = Paviani(maxvalue=Paviani.maxValue,\n",
    "                                   optimal_arms=Paviani.maxX,\n",
    "                                   maxiter=horizon, \n",
    "                                   toMaximize=True, \n",
    "                                   sd =sd)\n",
    "    parzen_optimization_problem = OptimizationProblem.from_list(parzen_problem_parameters)\n",
    "    parzen_optimizer = optimizers[\"parzen_estimator\"](parzen_optimization_problem)\n",
    "\n",
    "    print('Starting parzen round', isim)\n",
    "    start = timer()\n",
    "    for i in range(horizon):\n",
    "        sample = parzen_optimizer.suggest()\n",
    "        loss = func_parzen([\n",
    "                            sample['x1'],\n",
    "                            sample['x2'],\n",
    "                            sample['x3'],\n",
    "                            sample['x4'],\n",
    "                            sample['x5'],\n",
    "                            sample['x6'],\n",
    "                            sample['x7'],\n",
    "                            sample['x8'],\n",
    "                            sample['x9'],\n",
    "                            sample['x10']\n",
    "                          ])\n",
    "        \n",
    "        observation = Observation.from_dict({\"loss\": loss, \"sample\": sample})\n",
    "        parzen_optimization_problem.add_observation(observation)\n",
    "    end = timer()\n",
    "    timetocomplete = end-start\n",
    "    bestsample = [\n",
    "                    parzen_optimization_problem.best_sample['x1'], \n",
    "                    parzen_optimization_problem.best_sample['x2'],\n",
    "                    parzen_optimization_problem.best_sample['x3'], \n",
    "                    parzen_optimization_problem.best_sample['x4'],\n",
    "                    parzen_optimization_problem.best_sample['x5'], \n",
    "                    parzen_optimization_problem.best_sample['x6'],\n",
    "                    parzen_optimization_problem.best_sample['x7'], \n",
    "                    parzen_optimization_problem.best_sample['x8'],\n",
    "                    parzen_optimization_problem.best_sample['x9'], \n",
    "                    parzen_optimization_problem.best_sample['x10']\n",
    "    ]\n",
    "    parzen_results.append(func_parzen.generate_info(best_arm=bestsample,\n",
    "                                                    timetocomplete=timetocomplete,\n",
    "                                                    algorithm='PTE'))"
   ]
  },
  {
   "cell_type": "markdown",
   "metadata": {},
   "source": [
    "## Nelder-Mead loop"
   ]
  },
  {
   "cell_type": "code",
   "execution_count": 30,
   "metadata": {},
   "outputs": [
    {
     "name": "stdout",
     "output_type": "stream",
     "text": [
      "Starting nelder-mead round:  0\n",
      "Ending nelder-mead\n"
     ]
    }
   ],
   "source": [
    "neldermead_results=[]\n",
    "for isim in range(nsim):\n",
    "\n",
    "\n",
    "    print('Starting nelder-mead round: ', isim)\n",
    "    while True:#THe while loop is to guarantee we only have complete optimzations within the horizon\n",
    "        try:\n",
    "            func_neldermead = Paviani(maxvalue=Paviani.maxValue,\n",
    "                                   optimal_arms=Paviani.maxX,\n",
    "                                   maxiter=horizon, \n",
    "                                   toMaximize=True, \n",
    "                                   sd =sd)\n",
    "            neldermead = NelderMead(func=func_neldermead)\n",
    "            start = timer()\n",
    "            neldermead.run(x0=[6,6,6,6,6,6,6,6,6,6],horizon=int(horizon*0.9))\n",
    "            end = timer()\n",
    "            timetocomplete = end-start\n",
    "            neldermead_results.append(func_neldermead.generate_info(best_arm=neldermead.res.x,                                                      timetocomplete=timetocomplete,\n",
    "                                                        algorithm='Nelder-Mead'))\n",
    "        except Exception as e:\n",
    "            continue\n",
    "        break\n",
    "    print('Ending nelder-mead')\n",
    "    "
   ]
  },
  {
   "cell_type": "markdown",
   "metadata": {},
   "source": [
    "## Random Estimator loop"
   ]
  },
  {
   "cell_type": "code",
   "execution_count": 31,
   "metadata": {},
   "outputs": [
    {
     "name": "stdout",
     "output_type": "stream",
     "text": [
      "Starting random round:  0\n"
     ]
    }
   ],
   "source": [
    "random_problem_parameters = [{\n",
    "    \"name\": \"x1\",\n",
    "    \"category\": \"uniform\",\n",
    "    \"search_space\": \n",
    "        {\n",
    "        \"low\": 2.0,\n",
    "        \"high\": 10.0,\n",
    "        }\n",
    "    },\n",
    "   {\n",
    "    \"name\": \"x2\",\n",
    "    \"category\": \"uniform\",\n",
    "    \"search_space\": \n",
    "        {\n",
    "        \"low\": 2.0,\n",
    "        \"high\": 10.0,\n",
    "        }\n",
    "    },\n",
    "   {\n",
    "    \"name\": \"x3\",\n",
    "    \"category\": \"uniform\",\n",
    "    \"search_space\": \n",
    "        {\n",
    "        \"low\": 2.0,\n",
    "        \"high\": 10.0,\n",
    "        }\n",
    "    },\n",
    "  {\n",
    "    \"name\": \"x4\",\n",
    "    \"category\": \"uniform\",\n",
    "    \"search_space\": \n",
    "        {\n",
    "        \"low\": 2.0,\n",
    "        \"high\": 10.0,\n",
    "        }\n",
    "    },\n",
    "    {\n",
    "    \"name\": \"x5\",\n",
    "    \"category\": \"uniform\",\n",
    "    \"search_space\": \n",
    "        {\n",
    "        \"low\": 2.0,\n",
    "        \"high\": 10.0,\n",
    "        }\n",
    "    },\n",
    "    {\n",
    "    \"name\": \"x6\",\n",
    "    \"category\": \"uniform\",\n",
    "    \"search_space\": \n",
    "        {\n",
    "        \"low\": 2.0,\n",
    "        \"high\": 10.0,\n",
    "        }\n",
    "    },\n",
    "    {\n",
    "    \"name\": \"x7\",\n",
    "    \"category\": \"uniform\",\n",
    "    \"search_space\": \n",
    "        {\n",
    "        \"low\": 2.0,\n",
    "        \"high\": 10.0,\n",
    "        }\n",
    "    },\n",
    "    {\n",
    "    \"name\": \"x8\",\n",
    "    \"category\": \"uniform\",\n",
    "    \"search_space\": \n",
    "        {\n",
    "        \"low\": 2.0,\n",
    "        \"high\": 10.0,\n",
    "        }\n",
    "    },\n",
    "    {\n",
    "    \"name\": \"x9\",\n",
    "    \"category\": \"uniform\",\n",
    "    \"search_space\": \n",
    "        {\n",
    "        \"low\": 2.0,\n",
    "        \"high\": 10.0,\n",
    "        }\n",
    "    },\n",
    "    {\n",
    "    \"name\": \"x10\",\n",
    "    \"category\": \"uniform\",\n",
    "    \"search_space\": \n",
    "        {\n",
    "        \"low\": 2.0,\n",
    "        \"high\": 10.0,\n",
    "        }\n",
    "    },\n",
    "]\n",
    "\n",
    "random_results=[]\n",
    "for isim in range(nsim):\n",
    "    func_random = Paviani(maxvalue=Paviani.maxValue,\n",
    "                                   optimal_arms=Paviani.maxX,\n",
    "                                   maxiter=horizon, \n",
    "                                   toMaximize=True, \n",
    "                                   sd =sd)\n",
    "    random_optimization_problem = OptimizationProblem.from_list(random_problem_parameters)\n",
    "    random_optimizer = optimizers[\"random\"](random_optimization_problem)\n",
    "\n",
    "    print('Starting random round: ', isim)\n",
    "    start = timer()\n",
    "    for i in range(horizon):\n",
    "        sample = random_optimizer.suggest()\n",
    "        loss = func_random([\n",
    "                            sample['x1'],\n",
    "                            sample['x2'],\n",
    "                            sample['x3'],\n",
    "                            sample['x4'],\n",
    "                            sample['x5'],\n",
    "                            sample['x6'],\n",
    "                            sample['x7'],\n",
    "                            sample['x8'],\n",
    "                            sample['x9'],\n",
    "                            sample['x10']\n",
    "                          ])\n",
    "        observation = Observation.from_dict({\"loss\": loss, \"sample\": sample})\n",
    "        random_optimization_problem.add_observation(observation)\n",
    "    end = timer()\n",
    "    timetocomplete = end-start\n",
    "    bestsample = [\n",
    "                    random_optimization_problem.best_sample['x1'], \n",
    "                    random_optimization_problem.best_sample['x2'],\n",
    "                    random_optimization_problem.best_sample['x3'], \n",
    "                    random_optimization_problem.best_sample['x4'],\n",
    "                    random_optimization_problem.best_sample['x5'],\n",
    "                    random_optimization_problem.best_sample['x6'],\n",
    "                    random_optimization_problem.best_sample['x7'],\n",
    "                    random_optimization_problem.best_sample['x8'],\n",
    "                    random_optimization_problem.best_sample['x9'],\n",
    "                    random_optimization_problem.best_sample['x10']\n",
    "                ]\n",
    "    random_results.append(func_random.generate_info(best_arm=bestsample,\n",
    "                                                    timetocomplete=timetocomplete,\n",
    "                                                    algorithm='Random'))"
   ]
  },
  {
   "cell_type": "markdown",
   "metadata": {},
   "source": [
    "\n",
    "## Assembling data for analysis"
   ]
  },
  {
   "cell_type": "code",
   "execution_count": 32,
   "metadata": {},
   "outputs": [],
   "source": [
    "mlghoodf = pd.DataFrame(mlghoo_results)\n",
    "parzendf = pd.DataFrame(parzen_results)\n",
    "neldermeaddf = pd.DataFrame(neldermead_results)\n",
    "randomddf = pd.DataFrame(random_results)\n",
    "pavianidf = pd.concat([mlghoodf,parzendf,neldermeaddf,randomddf],ignore_index=True)\n",
    "pavianidf.to_csv('paviani.csv', sep=',', encoding='utf-8')"
   ]
  }
 ],
 "metadata": {
  "kernelspec": {
   "display_name": "Python 3",
   "language": "python",
   "name": "python3"
  },
  "language_info": {
   "codemirror_mode": {
    "name": "ipython",
    "version": 3
   },
   "file_extension": ".py",
   "mimetype": "text/x-python",
   "name": "python",
   "nbconvert_exporter": "python",
   "pygments_lexer": "ipython3",
   "version": "3.6.9"
  },
  "toc": {
   "base_numbering": 1,
   "nav_menu": {},
   "number_sections": true,
   "sideBar": true,
   "skip_h1_title": false,
   "title_cell": "Table of Contents",
   "title_sidebar": "Contents",
   "toc_cell": true,
   "toc_position": {
    "height": "calc(100% - 180px)",
    "left": "10px",
    "top": "150px",
    "width": "192px"
   },
   "toc_section_display": true,
   "toc_window_display": true
  }
 },
 "nbformat": 4,
 "nbformat_minor": 2
}
